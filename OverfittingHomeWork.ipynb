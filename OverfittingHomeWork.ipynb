{
  "nbformat": 4,
  "nbformat_minor": 0,
  "metadata": {
    "anaconda-cloud": {},
    "kernelspec": {
      "display_name": "Python 2",
      "language": "python",
      "name": "python2"
    },
    "language_info": {
      "codemirror_mode": {
        "name": "ipython",
        "version": 2
      },
      "file_extension": ".py",
      "mimetype": "text/x-python",
      "name": "python",
      "nbconvert_exporter": "python",
      "pygments_lexer": "ipython2",
      "version": "2.7.15"
    },
    "colab": {
      "provenance": [],
      "include_colab_link": true
    }
  },
  "cells": [
    {
      "cell_type": "markdown",
      "metadata": {
        "id": "view-in-github",
        "colab_type": "text"
      },
      "source": [
        "<a href=\"https://colab.research.google.com/github/pilipandr770/h_w_7_goit_da_ml/blob/main/OverfittingHomeWork.ipynb\" target=\"_parent\"><img src=\"https://colab.research.google.com/assets/colab-badge.svg\" alt=\"Open In Colab\"/></a>"
      ]
    },
    {
      "cell_type": "markdown",
      "metadata": {
        "id": "QH4MTNLJF0cX"
      },
      "source": [
        "# Лінійна регресія: перенавчання і регуляризація"
      ]
    },
    {
      "cell_type": "markdown",
      "metadata": {
        "id": "_4Ozl-xzF0cb"
      },
      "source": [
        "У цьому завданні ми на прикладах побачимо, як перенавчаються лінійні моделі, розберемо, чому так відбувається, і з'ясуємо, як діагностувати та контролювати перенавчання.\n",
        "\n",
        "В усіх комірках, де вказаний коментар з інструкціями, потрібно написати код, який виконує ці інструкції. Решту комірок із кодом (без коментарів) треба просто виконати. Крім того, у завданні необхідно відповідати на запитання; відповіді потрібно вписувати після виділеного слова \"__Відповідь:__\"."
      ]
    },
    {
      "cell_type": "markdown",
      "metadata": {
        "id": "lAIZa5LXF0ce"
      },
      "source": [
        "Ми будемо працювати з датасетом __\"bikes_rent.csv\"__, у якому по днях записані календарна інформація та погодні умови, що характеризують автоматизовані пункти прокату велосипедів, а також кількість прокатів у цей день. Останнє ми будемо передбачати; таким чином, ми будемо розв'язувати завдання регресії."
      ]
    },
    {
      "cell_type": "markdown",
      "metadata": {
        "id": "bL3VD-Z9F0ce"
      },
      "source": [
        "### Ознайомлення з даними"
      ]
    },
    {
      "cell_type": "markdown",
      "metadata": {
        "id": "PlxEpVFqghIe"
      },
      "source": [
        "## Завдання 1"
      ]
    },
    {
      "cell_type": "markdown",
      "metadata": {
        "id": "5HYQjYnVF0cf"
      },
      "source": [
        "Завантажте датасет за допомогою функції __pandas.read_csv__ у змінну __df__. Виведіть перші 5 рядків, щоб переконатися в коректному зчитуванні даних:"
      ]
    },
    {
      "cell_type": "markdown",
      "metadata": {
        "id": "arebsdFoF0ch"
      },
      "source": [
        "Для кожного дня прокату відомі такі ознаки:\n",
        "* _season_: 1 — весна, 2 — літо, 3 — осінь, 4 — зима\n",
        "* _yr_: 0 — 2011, 1 — 2012\n",
        "* _mnth_: від 1 до 12\n",
        "* _holiday_: 0 — немає свята, 1 — є свято\n",
        "* _weekday_: від 0 до 6\n",
        "* _workingday_: 0 — неробочий день, 1 — робочий день\n",
        "* _weathersit_: оцінка сприятливості погоди від 1 (чистий, ясний день) до 4 (злива, туман)\n",
        "* _temp_: температура в Цельсіях\n",
        "* _atemp_: температура за відчуттями в Цельсіях\n",
        "* _hum_: вологість\n",
        "* _windspeed(mph)_: швидкість вітру в милях за годину\n",
        "* _windspeed(ms)_: швидкість вітру в метрах за секунду\n",
        "* _cnt_: кількість орендованих велосипедів (це цільова ознака, її ми будемо передбачати)\n",
        "\n",
        "Отже, у нас є речові, бінарні та номінальні (порядкові) ознаки, і з усіма з них можна працювати як з речовими. З номінальними ознаками теж можна працювати як з речовими, тому що на них заданий порядок. Давайте подивимося на графіках, як цільова ознака залежить від решти."
      ]
    },
    {
      "cell_type": "markdown",
      "metadata": {
        "id": "w_bf05QXe60r"
      },
      "source": [
        "Побудуйте графіки залежностей атрибутів від кількості поїздок. Іншими словами, вам потрібно побудувати 12 графіків. На кожному має бути зображена залежність чергового атрибута від змінної **cnt**."
      ]
    },
    {
      "cell_type": "markdown",
      "metadata": {
        "id": "1g8iwiimF0cj"
      },
      "source": [
        "__Запитання:__\n",
        "1. Яким є характер залежності кількості прокатів від місяця?\n",
        "1. Вкажіть одну або дві ознаки, від яких кількість прокатів скоріше за все залежить лінійно."
      ]
    },
    {
      "cell_type": "markdown",
      "source": [
        "Відповідь 1: Кількість прокатів має сезонний характер, зростає влітку і падає взимку.Відповідь 2: Температура (temp) і відчутна температура (atemp)."
      ],
      "metadata": {
        "id": "peQp4JzZV0-P"
      }
    },
    {
      "cell_type": "code",
      "source": [
        "## Імпорт необхідних бібліотек\n",
        "import pandas as pd\n",
        "import numpy as np\n",
        "from sklearn.model_selection import train_test_split\n",
        "from sklearn.linear_model import LinearRegression, Lasso, Ridge\n",
        "import matplotlib.pyplot as plt\n",
        "import seaborn as sns\n",
        "\n",
        "# Завантаження даних\n",
        "url = 'https://drive.google.com/file/d/1-4wgz9AFXrD3tZfqHJLMhCmy4BUzAX96/view'\n",
        "path = 'https://drive.google.com/uc?export=download&id=' + url.split('/')[-2]\n",
        "data = pd.read_csv(path)\n",
        "\n",
        "# Перегляд перших рядків даних\n",
        "print(data.head())"
      ],
      "metadata": {
        "id": "cQmmhFouVB3n",
        "outputId": "42ce8cd6-23f7-46d6-8b01-be19082a85d8",
        "colab": {
          "base_uri": "https://localhost:8080/"
        }
      },
      "execution_count": 6,
      "outputs": [
        {
          "output_type": "stream",
          "name": "stdout",
          "text": [
            "   season  yr  mnth  holiday  weekday  workingday  weathersit       temp  \\\n",
            "0       1   0     1        0        6           0           2  14.110847   \n",
            "1       1   0     1        0        0           0           2  14.902598   \n",
            "2       1   0     1        0        1           1           1   8.050924   \n",
            "3       1   0     1        0        2           1           1   8.200000   \n",
            "4       1   0     1        0        3           1           1   9.305237   \n",
            "\n",
            "      atemp      hum  windspeed(mph)  windspeed(ms)   cnt  \n",
            "0  18.18125  80.5833       10.749882       4.805490   985  \n",
            "1  17.68695  69.6087       16.652113       7.443949   801  \n",
            "2   9.47025  43.7273       16.636703       7.437060  1349  \n",
            "3  10.60610  59.0435       10.739832       4.800998  1562  \n",
            "4  11.46350  43.6957       12.522300       5.597810  1600  \n"
          ]
        }
      ]
    },
    {
      "cell_type": "markdown",
      "metadata": {
        "id": "rB2NCSXbF0cj"
      },
      "source": [
        "## Завдання 2\n",
        "\n",
        "Давайте більш строго оцінимо рівень лінійної залежності між ознаками та цільовою змінною. Гарною мірою лінійної залежності між двома векторами є кореляція Пірсона. Нам уже доводилося мати з нею справу раніше. Для її обчислення в pandas можна використовувати методи датафрейму: corr і corrwith."
      ]
    },
    {
      "cell_type": "markdown",
      "metadata": {
        "id": "ykR_leNKF0ck"
      },
      "source": [
        "Порахуйте кореляції всіх ознак, окрім останньої, з останньою за допомогою методу `corrwith`."
      ]
    },
    {
      "cell_type": "code",
      "metadata": {
        "id": "v3RlugT3F0ck",
        "outputId": "caf85d7c-9286-47c1-fccb-097363b3c850",
        "colab": {
          "base_uri": "https://localhost:8080/"
        }
      },
      "source": [
        "# Визначте цільову змінну\n",
        "target = data.columns[-1]  # остання колонка в датафреймі\n",
        "\n",
        "# Обчисліть кореляції Пірсона між ознаками та цільовою змінною\n",
        "correlations = data.drop(target, axis=1).corrwith(data[target])\n",
        "\n",
        "# Виведіть результати\n",
        "print(correlations)\n"
      ],
      "execution_count": 3,
      "outputs": [
        {
          "output_type": "stream",
          "name": "stdout",
          "text": [
            "season            0.406100\n",
            "yr                0.566710\n",
            "mnth              0.279977\n",
            "holiday          -0.068348\n",
            "weekday           0.067443\n",
            "workingday        0.061156\n",
            "weathersit       -0.297391\n",
            "temp              0.627494\n",
            "atemp             0.631066\n",
            "hum              -0.100659\n",
            "windspeed(mph)   -0.234545\n",
            "windspeed(ms)    -0.234545\n",
            "dtype: float64\n"
          ]
        }
      ]
    },
    {
      "cell_type": "markdown",
      "metadata": {
        "id": "ovV_DO35F0cl"
      },
      "source": [
        "У вибірці є ознаки, що корелюють із цільовою, а отже, завдання можна розв'язувати лінійними методами."
      ]
    },
    {
      "cell_type": "markdown",
      "metadata": {
        "id": "r0dre43ZF0cl"
      },
      "source": [
        "За графіками видно, що деякі ознаки схожі між собою. Тому давайте також порахуємо кореляції між речовими ознаками."
      ]
    },
    {
      "cell_type": "code",
      "source": [
        "# Обчисліть кореляції між речовими ознаками\n",
        "correlations = data.corr()\n",
        "\n",
        "# Виведіть матрицю кореляцій\n",
        "print(correlations)\n"
      ],
      "metadata": {
        "id": "ZrMDu9KJXBPR",
        "outputId": "0a65cbdd-89c5-4de8-bcfb-f7e68254bd96",
        "colab": {
          "base_uri": "https://localhost:8080/"
        }
      },
      "execution_count": 4,
      "outputs": [
        {
          "output_type": "stream",
          "name": "stdout",
          "text": [
            "                  season        yr      mnth   holiday   weekday  workingday  \\\n",
            "season          1.000000 -0.001844  0.831440 -0.010537 -0.003080    0.012485   \n",
            "yr             -0.001844  1.000000 -0.001792  0.007954 -0.005461   -0.002013   \n",
            "mnth            0.831440 -0.001792  1.000000  0.019191  0.009509   -0.005901   \n",
            "holiday        -0.010537  0.007954  0.019191  1.000000 -0.101960   -0.253023   \n",
            "weekday        -0.003080 -0.005461  0.009509 -0.101960  1.000000    0.035790   \n",
            "workingday      0.012485 -0.002013 -0.005901 -0.253023  0.035790    1.000000   \n",
            "weathersit      0.019211 -0.048727  0.043528 -0.034627  0.031087    0.061200   \n",
            "temp            0.334315  0.047604  0.220205 -0.028556 -0.000170    0.052660   \n",
            "atemp           0.342876  0.046106  0.227459 -0.032507 -0.007537    0.052182   \n",
            "hum             0.205445 -0.110651  0.222204 -0.015937 -0.052232    0.024327   \n",
            "windspeed(mph) -0.229046 -0.011817 -0.207502  0.006292  0.014282   -0.018796   \n",
            "windspeed(ms)  -0.229046 -0.011817 -0.207502  0.006292  0.014282   -0.018796   \n",
            "cnt             0.406100  0.566710  0.279977 -0.068348  0.067443    0.061156   \n",
            "\n",
            "                weathersit      temp     atemp       hum  windspeed(mph)  \\\n",
            "season            0.019211  0.334315  0.342876  0.205445       -0.229046   \n",
            "yr               -0.048727  0.047604  0.046106 -0.110651       -0.011817   \n",
            "mnth              0.043528  0.220205  0.227459  0.222204       -0.207502   \n",
            "holiday          -0.034627 -0.028556 -0.032507 -0.015937        0.006292   \n",
            "weekday           0.031087 -0.000170 -0.007537 -0.052232        0.014282   \n",
            "workingday        0.061200  0.052660  0.052182  0.024327       -0.018796   \n",
            "weathersit        1.000000 -0.120602 -0.121583  0.591045        0.039511   \n",
            "temp             -0.120602  1.000000  0.991702  0.126963       -0.157944   \n",
            "atemp            -0.121583  0.991702  1.000000  0.139988       -0.183643   \n",
            "hum               0.591045  0.126963  0.139988  1.000000       -0.248489   \n",
            "windspeed(mph)    0.039511 -0.157944 -0.183643 -0.248489        1.000000   \n",
            "windspeed(ms)     0.039511 -0.157944 -0.183643 -0.248489        1.000000   \n",
            "cnt              -0.297391  0.627494  0.631066 -0.100659       -0.234545   \n",
            "\n",
            "                windspeed(ms)       cnt  \n",
            "season              -0.229046  0.406100  \n",
            "yr                  -0.011817  0.566710  \n",
            "mnth                -0.207502  0.279977  \n",
            "holiday              0.006292 -0.068348  \n",
            "weekday              0.014282  0.067443  \n",
            "workingday          -0.018796  0.061156  \n",
            "weathersit           0.039511 -0.297391  \n",
            "temp                -0.157944  0.627494  \n",
            "atemp               -0.183643  0.631066  \n",
            "hum                 -0.248489 -0.100659  \n",
            "windspeed(mph)       1.000000 -0.234545  \n",
            "windspeed(ms)        1.000000 -0.234545  \n",
            "cnt                 -0.234545  1.000000  \n"
          ]
        }
      ]
    },
    {
      "cell_type": "markdown",
      "metadata": {
        "id": "Wga1WJDkF0cl"
      },
      "source": [
        "## Завдання 3\n",
        "\n",
        "Порахуйте попарні кореляції між ознаками temp, atemp, hum, windspeed(mph), windspeed(ms) і cnt\n",
        "за допомогою методу corr:"
      ]
    },
    {
      "cell_type": "code",
      "metadata": {
        "id": "1rSOhITgF0cm",
        "outputId": "a71a4c18-a523-4b0d-dbd8-09bee09ef06f",
        "colab": {
          "base_uri": "https://localhost:8080/"
        }
      },
      "source": [
        "# Виберіть потрібні ознаки\n",
        "features = ['temp', 'atemp', 'hum', 'windspeed(mph)', 'windspeed(ms)', 'cnt']\n",
        "\n",
        "# Обчисліть попарні кореляції між вибраними ознаками\n",
        "correlations = data[features].corr()\n",
        "\n",
        "# Виведіть матрицю кореляцій\n",
        "print(correlations)\n"
      ],
      "execution_count": 5,
      "outputs": [
        {
          "output_type": "stream",
          "name": "stdout",
          "text": [
            "                    temp     atemp       hum  windspeed(mph)  windspeed(ms)  \\\n",
            "temp            1.000000  0.991702  0.126963       -0.157944      -0.157944   \n",
            "atemp           0.991702  1.000000  0.139988       -0.183643      -0.183643   \n",
            "hum             0.126963  0.139988  1.000000       -0.248489      -0.248489   \n",
            "windspeed(mph) -0.157944 -0.183643 -0.248489        1.000000       1.000000   \n",
            "windspeed(ms)  -0.157944 -0.183643 -0.248489        1.000000       1.000000   \n",
            "cnt             0.627494  0.631066 -0.100659       -0.234545      -0.234545   \n",
            "\n",
            "                     cnt  \n",
            "temp            0.627494  \n",
            "atemp           0.631066  \n",
            "hum            -0.100659  \n",
            "windspeed(mph) -0.234545  \n",
            "windspeed(ms)  -0.234545  \n",
            "cnt             1.000000  \n"
          ]
        }
      ]
    },
    {
      "cell_type": "markdown",
      "metadata": {
        "id": "Ooc4syvaF0cm"
      },
      "source": [
        "На діагоналях, як і належить, стоять одиниці. Однак у матриці є ще дві пари сильно корелюючих стовпців: temp і atemp (корелюють за своєю природою) і два windspeed (тому що це просто переведення одних одиниць в інші). Далі ми побачимо, що цей факт негативно позначається на навчанні лінійної моделі."
      ]
    },
    {
      "cell_type": "markdown",
      "metadata": {
        "id": "t-w2-4DbF0cm"
      },
      "source": [
        "Насамкінець подивимося середні ознак (метод mean), щоб оцінити масштаб ознак і частки 1 у бінарних ознак."
      ]
    },
    {
      "cell_type": "code",
      "source": [
        "# Обчисліть середні значення ознак\n",
        "mean_values = data.mean()\n",
        "\n",
        "# Виведіть результати\n",
        "print(mean_values)\n"
      ],
      "metadata": {
        "id": "Pq5VP-12Xh9G",
        "outputId": "c2f8e58b-c15d-48bf-fed2-2c36d9f5c641",
        "colab": {
          "base_uri": "https://localhost:8080/"
        }
      },
      "execution_count": 6,
      "outputs": [
        {
          "output_type": "stream",
          "name": "stdout",
          "text": [
            "season               2.496580\n",
            "yr                   0.500684\n",
            "mnth                 6.519836\n",
            "holiday              0.028728\n",
            "weekday              2.997264\n",
            "workingday           0.683995\n",
            "weathersit           1.395349\n",
            "temp                20.310776\n",
            "atemp               23.717699\n",
            "hum                 62.789406\n",
            "windspeed(mph)      12.762576\n",
            "windspeed(ms)        5.705220\n",
            "cnt               4504.348837\n",
            "dtype: float64\n"
          ]
        }
      ]
    },
    {
      "cell_type": "markdown",
      "metadata": {
        "id": "Ml3jlosnF0cm"
      },
      "source": [
        "## Завдання 4\n",
        "\n",
        "Виведіть середні ознак."
      ]
    },
    {
      "cell_type": "markdown",
      "metadata": {
        "id": "2i9pGW4TF0cn"
      },
      "source": [
        "Ознаки мають різний масштаб, отже, для подальшої роботи нам краще нормувати матрицю об'єкти-ознаки."
      ]
    },
    {
      "cell_type": "markdown",
      "metadata": {
        "id": "-RTwV3e_F0cn"
      },
      "source": [
        "### Проблема перша: колінеарні ознаки"
      ]
    },
    {
      "cell_type": "markdown",
      "metadata": {
        "id": "SSmpjxmrF0co"
      },
      "source": [
        "Отже, у наших даних одна ознака дублює іншу, і є ще дві дуже схожі. Звичайно, ми могли б одразу видалити дублікати, але давайте подивимося, як відбувалося б навчання моделі, якби ми не помітили цю проблему.\n",
        "\n",
        "Для початку проведемо масштабування, або стандартизацію ознак: з кожної ознаки віднімемо її середнє і поділимо на стандартне відхилення. Це можна зробити за допомогою методу scale.\n",
        "\n",
        "Крім того, необхідно перемішати вибірку, це буде потрібно для крос-валідації."
      ]
    },
    {
      "source": [
        "# Вычисление средних значений признаков\n",
        "mean_values = data.mean()\n",
        "\n",
        "# Вывод средних значений\n",
        "print(mean_values)\n",
        "\n",
        "# Масштабирование признаков (стандартизация)\n",
        "from sklearn.preprocessing import scale\n",
        "data_scaled = scale(data)\n",
        "\n",
        "# Преобразование масштабированных данных обратно в DataFrame (для удобства)\n",
        "data_scaled = pd.DataFrame(data_scaled, columns=data.columns)\n",
        "\n",
        "# Перемешивание выборки (для кросс-валидации в будущем)\n",
        "from sklearn.utils import shuffle\n",
        "data_shuffled = shuffle(data_scaled)"
      ],
      "cell_type": "code",
      "metadata": {
        "id": "yD2TtSah5sSe",
        "outputId": "6c299fc6-9f25-4479-ff4e-177060aa5bd2",
        "colab": {
          "base_uri": "https://localhost:8080/"
        }
      },
      "execution_count": 7,
      "outputs": [
        {
          "output_type": "stream",
          "name": "stdout",
          "text": [
            "season               2.496580\n",
            "yr                   0.500684\n",
            "mnth                 6.519836\n",
            "holiday              0.028728\n",
            "weekday              2.997264\n",
            "workingday           0.683995\n",
            "weathersit           1.395349\n",
            "temp                20.310776\n",
            "atemp               23.717699\n",
            "hum                 62.789406\n",
            "windspeed(mph)      12.762576\n",
            "windspeed(ms)        5.705220\n",
            "cnt               4504.348837\n",
            "dtype: float64\n"
          ]
        }
      ]
    },
    {
      "cell_type": "markdown",
      "metadata": {
        "id": "wEvKSbrFF0co"
      },
      "source": [
        "Давайте навчимо лінійну регресію на наших даних і подивимося на ваги ознак."
      ]
    },
    {
      "source": [
        "import os\n",
        "print(os.listdir()) # Removed extra space before the print statement"
      ],
      "cell_type": "code",
      "metadata": {
        "id": "oOlDQNGH2_H9",
        "outputId": "46443622-8d46-4ecd-9c67-1a2906567226",
        "colab": {
          "base_uri": "https://localhost:8080/"
        }
      },
      "execution_count": 8,
      "outputs": [
        {
          "output_type": "stream",
          "name": "stdout",
          "text": [
            "['.config', 'sample_data']\n"
          ]
        }
      ]
    },
    {
      "cell_type": "markdown",
      "metadata": {
        "id": "-8Cc-xhqF0cp"
      },
      "source": [
        "## Завдання 5\n",
        "\n",
        "Створіть об'єкт лінійного регресора, навчіть його на всіх даних і виведіть ваги моделі (ваги зберігаються у змінній `coef_` класу регресора). Можна виводити пари (назва ознаки, вага), скориставшись функцією `zip`, вбудованою в мову python. Назви ознак зберігаються у змінній `df.columns`.\n"
      ]
    },
    {
      "cell_type": "code",
      "metadata": {
        "id": "EYFEkeI0F0cp",
        "outputId": "b86f5db4-46a3-43a4-9e0b-3b0cdf29015a",
        "colab": {
          "base_uri": "https://localhost:8080/"
        }
      },
      "source": [
        "# Создание объекта линейного регрессора\n",
        "model = LinearRegression()\n",
        "\n",
        "# Обучение модели на всех данных (используем масштабированные данные)\n",
        "# Разделяем данные на признаки (X) и целевую переменную (y)\n",
        "X = data_shuffled.drop('cnt', axis=1)\n",
        "y = data_shuffled['cnt']\n",
        "model.fit(X, y)\n",
        "\n",
        "# Вывод весов модели\n",
        "for feature, weight in zip(data.columns, model.coef_):\n",
        "    print(f'{feature}: {weight}')"
      ],
      "execution_count": 9,
      "outputs": [
        {
          "output_type": "stream",
          "name": "stdout",
          "text": [
            "season: 0.2948873423572146\n",
            "yr: 0.5279057160342008\n",
            "mnth: -0.07299141081230032\n",
            "holiday: -0.044814454828680225\n",
            "weekday: 0.07088381080367903\n",
            "workingday: 0.029129648420672893\n",
            "weathersit: -0.17058293505250668\n",
            "temp: 0.18982146244688844\n",
            "atemp: 0.3024762281355494\n",
            "hum: -0.07521514345663542\n",
            "windspeed(mph): 6434852404.767099\n",
            "windspeed(ms): -6434852404.869613\n"
          ]
        }
      ]
    },
    {
      "cell_type": "markdown",
      "metadata": {
        "id": "EXHziiV-F0cp"
      },
      "source": [
        "Ми бачимо, що ваги при лінійно-залежних ознаках за модулем значно більші, ніж при інших ознаках. Щоб зрозуміти, чому так сталося, згадаємо аналітичну формулу, за якою обчислюються ваги лінійної моделі в методі найменших квадратів:\n",
        "\n",
        "$$w = (X^TX)^{-1} X^T y$$\n",
        "\n",
        "Якщо в $X$ є колінеарні (лінійно-залежні) стовпці, матриця $X^TX$ стає виродженою, і формула перестає бути коректною. Чим більш залежні ознаки, тим менший визначник цієї матриці й тим гірша апроксимація $Xw \\approx y$. Таку ситуацію називають _проблемою мультиколінеарності_."
      ]
    },
    {
      "cell_type": "markdown",
      "metadata": {
        "id": "PIX0I5LQF0cq"
      },
      "source": [
        "З парою (temp, atemp) трохи менше корелюючих змінних такого не сталося, однак на практиці завжди варто уважно стежити за коефіцієнтами при схожих ознаках."
      ]
    },
    {
      "cell_type": "markdown",
      "metadata": {
        "id": "vkXwN1tKF0cq"
      },
      "source": [
        "Для того щоб розв'язати проблему мультиколінеарності, потрібно скористатися регуляризатором. До оптимізуючого функціоналу додають $L_1$ або $L_2$ норму ваг, помножену на коефіцієнт регуляризації $\\alpha$. У першому випадку метод називається Lasso, а у другому — Ridge."
      ]
    },
    {
      "cell_type": "markdown",
      "metadata": {
        "id": "FT2oVbm1F0cq"
      },
      "source": [
        "### Завдання 6\n",
        "Давайте спробуємо навчити лінійні моделі з $L_1$ і $L_2$-регуляризацією, а далі порівняємо їхні ваги. Навчіть регресори Ridge і Lasso з параметрами за замовчуванням і переконайтеся, що проблема з вагами вирішилась."
      ]
    },
    {
      "cell_type": "markdown",
      "metadata": {
        "id": "Rw0SDNemF0cq"
      },
      "source": [
        "Навчіть лінійну модель з $L_1$-регуляризацією (клас Lasso) і виведіть ваги."
      ]
    },
    {
      "cell_type": "code",
      "metadata": {
        "id": "A2U5BrZ9F0cr",
        "outputId": "5628729f-2ecd-40bf-bcfa-1800c564edc5",
        "colab": {
          "base_uri": "https://localhost:8080/"
        }
      },
      "source": [
        "# Создание объекта Lasso регрессора\n",
        "lasso_model = Lasso()\n",
        "\n",
        "# Обучение модели на масштабированных данных\n",
        "lasso_model.fit(X, y)\n",
        "\n",
        "# Вывод весов Lasso модели\n",
        "for feature, weight in zip(data.columns, lasso_model.coef_):\n",
        "    print(f'{feature}: {weight}')"
      ],
      "execution_count": 10,
      "outputs": [
        {
          "output_type": "stream",
          "name": "stdout",
          "text": [
            "season: 0.0\n",
            "yr: 0.0\n",
            "mnth: 0.0\n",
            "holiday: -0.0\n",
            "weekday: 0.0\n",
            "workingday: 0.0\n",
            "weathersit: -0.0\n",
            "temp: 0.0\n",
            "atemp: 0.0\n",
            "hum: -0.0\n",
            "windspeed(mph): -0.0\n",
            "windspeed(ms): -0.0\n"
          ]
        }
      ]
    },
    {
      "cell_type": "markdown",
      "metadata": {
        "id": "h7MpUkWyF0cr"
      },
      "source": [
        "Навчіть лінійну модель з $L_2$-регуляризацією (клас Ridge) і виведіть ваги."
      ]
    },
    {
      "cell_type": "code",
      "metadata": {
        "id": "u4BnooUuF0cr",
        "outputId": "5c5f2b21-693d-4426-f23e-1cdc6c7b1aa3",
        "colab": {
          "base_uri": "https://localhost:8080/"
        }
      },
      "source": [
        "# Создание объекта Ridge регрессора\n",
        "ridge_model = Ridge()\n",
        "\n",
        "# Обучение модели на масштабированных данных\n",
        "ridge_model.fit(X, y)\n",
        "\n",
        "# Вывод весов Ridge модели\n",
        "for feature, weight in zip(data.columns, ridge_model.coef_):\n",
        "    print(f'{feature}: {weight}')"
      ],
      "execution_count": 11,
      "outputs": [
        {
          "output_type": "stream",
          "name": "stdout",
          "text": [
            "season: 0.2908562720202426\n",
            "yr: 0.5263473168803147\n",
            "mnth: -0.06812039720930071\n",
            "holiday: -0.0448095083923061\n",
            "weekday: 0.07128783115698421\n",
            "workingday: 0.02887727461345217\n",
            "weathersit: -0.17167839223649647\n",
            "temp: 0.19962843780707515\n",
            "atemp: 0.2925518650884456\n",
            "hum: -0.0749379511951153\n",
            "windspeed(mph): -0.051273392819589377\n",
            "windspeed(ms): -0.051273392857034174\n"
          ]
        }
      ]
    },
    {
      "cell_type": "markdown",
      "metadata": {
        "id": "OmpSEJ3wF0cr"
      },
      "source": [
        "### Завдання 7\n",
        "\n",
        "На відміну від $L_2$-регуляризації, $L_1$ обнуляє ваги при деяких ознаках. Давайте поспостерігаємо, як змінюються ваги зі збільшенням коефіцієнта регуляризації $\\alpha$."
      ]
    },
    {
      "cell_type": "markdown",
      "metadata": {
        "id": "Ho9_PTbHF0cs"
      },
      "source": [
        "Для кожного значення коефіцієнта з `alphas` навчіть регресор `Lasso` і запишіть ваги у список `coefs_lasso`, а потім навчіть `Ridge` і запишіть ваги у список`coefs_ridge`. Конвертуйте отримані списки в `np.array`."
      ]
    },
    {
      "source": [
        "alphas = np.arange(1, 500, 50)\n",
        "\n",
        "coefs_lasso = []\n",
        "coefs_ridge = []\n",
        "\n",
        "for alpha in alphas:\n",
        "    lasso_model = Lasso(alpha=alpha)\n",
        "    lasso_model.fit(X, y)\n",
        "    coefs_lasso.append(lasso_model.coef_)\n",
        "\n",
        "    ridge_model = Ridge(alpha=alpha)\n",
        "    ridge_model.fit(X, y)\n",
        "    coefs_ridge.append(ridge_model.coef_)\n",
        "\n",
        "coefs_lasso = np.array(coefs_lasso)\n",
        "coefs_ridge = np.array(coefs_ridge)"
      ],
      "cell_type": "code",
      "metadata": {
        "id": "pKLpMyHK7kWJ"
      },
      "execution_count": 14,
      "outputs": []
    },
    {
      "cell_type": "markdown",
      "metadata": {
        "id": "vR3hawHAF0cs"
      },
      "source": [
        "Проаналізуйте динаміку ваг при збільшенні параметра регуляризації:"
      ]
    },
    {
      "source": [
        "plt.figure(figsize=(8, 5))\n",
        "\n",
        "for coef, feature in zip(coefs_lasso.T, data.columns):\n",
        "    plt.plot(alphas, coef, label=feature, color=np.random.rand(3))\n",
        "\n",
        "plt.legend(loc=\"upper right\", bbox_to_anchor=(1.4, 0.95))\n",
        "plt.xlabel(\"alpha\")\n",
        "plt.ylabel(\"feature weight\")\n",
        "plt.title(\"Lasso\")\n",
        "\n",
        "plt.figure(figsize=(8, 5))\n",
        "for coef, feature in zip(coefs_ridge.T, data.columns):\n",
        "    plt.plot(alphas, coef, label=feature, color=np.random.rand(3))\n",
        "\n",
        "plt.legend(loc=\"upper right\", bbox_to_anchor=(1.4, 0.95))\n",
        "plt.xlabel(\"alpha\")\n",
        "plt.ylabel(\"feature weight\")\n",
        "plt.title(\"Ridge\")\n",
        "\n",
        "plt.show()"
      ],
      "cell_type": "code",
      "metadata": {
        "id": "F_fjoRmG7wW9",
        "outputId": "e70db1b1-8513-433a-ccd6-2ff6fb986558",
        "colab": {
          "base_uri": "https://localhost:8080/",
          "height": 703
        }
      },
      "execution_count": 16,
      "outputs": [
        {
          "output_type": "display_data",
          "data": {
            "text/plain": [
              "<Figure size 800x500 with 1 Axes>"
            ],
            "image/png": "[encoded data removed]"
          },
          "metadata": {}
        },
        {
          "output_type": "display_data",
          "data": {
            "text/plain": [
              "<Figure size 800x500 with 1 Axes>"
            ],
            "image/png": "[encoded data removed]"
          },
          "metadata": {}
        }
      ]
    },
    {
      "cell_type": "markdown",
      "metadata": {
        "id": "wDCadrLbF0cs"
      },
      "source": [
        "Проаналізуйте графіки та дайте відповіді на такі запитання.\n",
        "\n",
        "1. Який регуляризатор (Ridge або Lasso) агресивніше зменшує ваги при одному й тому самому alpha?\n",
        "1. Що станеться з вагами Lasso, якщо alpha зробити дуже великим? Поясніть, чому так відбувається.\n",
        "1. Чи можна стверджувати, що `Lasso` виключає одну з ознак `windspeed` при будь-якому значенні `alpha > 0`? А Ridge? Вважається, що регуляризатор виключає ознаку, якщо коефіцієнт при ньому менший $10^{-3}$.\n",
        "1. Який із регуляризаторів підійде для відбору неінформативних ознак?"
      ]
    },
    {
      "cell_type": "markdown",
      "source": [
        "1. Порівняння Lasso та Ridge:\n",
        "\n",
        "Спостерігаючи за графіками, можна помітити, що Lasso агресивніше зменшує ваги при однаковому значенні alpha. Лінії на графіку Lasso швидше прямують до нуля порівняно з Ridge.\n",
        "\n",
        "2. Вплив великого alpha на Lasso:\n",
        "\n",
        "Якщо встановити дуже велике значення alpha для Lasso, ваги всіх ознак будуть наближатися до нуля. Це пояснюється тим, що при великому alpha штраф за великі ваги в L1-нормі стає дуже значним, і модель змушена обнуляти ваги, щоб мінімізувати функцію втрат.\n",
        "\n",
        "3. Виключення ознак windspeed:\n",
        "\n",
        "На графіку Lasso видно, що лінія, яка відповідає ознаці windspeed, майже одразу стає рівною нулю при будь-якому alpha > 0. Це означає, що Lasso виключає цю ознаку.\n",
        "\n",
        "У випадку Ridge ваги при ознаках windspeed зменшуються зі зростанням alpha, але не стають рівними нулю. Тому Ridge не виключає ці ознаки повністю, хоча і зменшує їх вплив на модель.\n",
        "\n",
        "4. Вибір регуляризатора для відбору ознак:\n",
        "\n",
        "Для відбору неінформативних ознак краще підходить Lasso, оскільки він здатен повністю обнуляти ваги при деяких ознаках, ефективно виключаючи їх з моделі."
      ],
      "metadata": {
        "id": "UY5sxNFF8bvo"
      }
    },
    {
      "cell_type": "markdown",
      "metadata": {
        "id": "IEmB7CPtF0ct"
      },
      "source": [
        "### Завдання 8\n",
        "\n",
        "Далі будемо працювати з `Lasso`.\n",
        "\n",
        "Отже, ми бачимо, що при зміні alpha модель по-різному підбирає коефіцієнти ознак. Нам потрібно вибрати найкраще alpha.\n",
        "\n",
        "Для цього, по-перше, нам потрібна метрика якості. Будемо використовувати як метрику сам оптимізований функціонал методу найменших квадратів, тобто `Mean Square Error`.\n",
        "\n",
        "По-друге, потрібно зрозуміти, на яких даних цю метрику рахувати. Не можна вибирати `alpha` за значенням MSE на навчальній вибірці, тому що тоді ми не зможемо оцінити, як модель буде робити передбачення на нових для неї даних. Якщо ми виберемо одне розбиття вибірки на навчальну та тестову (це називається holdout), то налаштуємося на конкретні \"нові\" дані, і знову можемо перенавчитися. Тому будемо робити декілька розбиттів вибірки, на кожному пробувати різні значення alpha, а потім усереднювати MSE. Найзручніше робити такі розбиття крос-валідацією, тобто розділити вибірку на $K$ частин, і кожного разу брати одну з них як тестову, а з блоків, що залишилися, складати навчальну вибірку."
      ]
    },
    {
      "cell_type": "markdown",
      "metadata": {
        "id": "wyOFogflF0ct"
      },
      "source": [
        "Робити крос-валідацію для регресії в sklearn зовсім просто: для цього є спеціальний регресор, __LassoCV__, який бере на вхід список із alpha і для кожного з них обчислює MSE на крос-валідації. Після навчання (якщо залишити параметр cv=3 за замовчуванням) регресор буде містити змінну __mse\\_path\\___, матрицю розміру len(alpha) x k, k = 3 (число блоків у крос-валідації), що містить значення MSE на тесті для відповідних запусків. Крім того, у змінній alpha\\_ буде зберігатися вибране значення параметра регуляризації, а в coef\\_, традиційно, навчені ваги, що відповідають цьому alpha_.\n",
        "\n",
        "Зверніть увагу, що регресор може змінювати порядок, у якому він проходить по alphas; для зіставлення з матрицею MSE краще використовувати змінну регресора alphas_."
      ]
    },
    {
      "cell_type": "markdown",
      "metadata": {
        "id": "_aUw0GmkF0ct"
      },
      "source": [
        "Навчіть регресор `LassoCV` на всіх параметрах регуляризації з alpha. Побудуйте графік _усередненого_ за рядками `MSE` в залежності від `alpha` (використовуйте для цього функцію `create_plot`).\n",
        "\n",
        "Виведіть вибране `alpha`, а також пари \"ознака-коефіцієнт\" для навченого вектора коефіцієнтів."
      ]
    },
    {
      "cell_type": "code",
      "metadata": {
        "id": "L5MVKdVPF0cu"
      },
      "source": [
        "def create_plot(data, title, xlabel, ylabel, figsize=None):\n",
        "    size = figsize or (15, 5)\n",
        "    plt.figure(figsize=size)\n",
        "\n",
        "    x = map(lambda e: e[0], data)\n",
        "    y = map(lambda e: e[1], data)\n",
        "    plt.plot(x, y)\n",
        "\n",
        "    plt.title(title)\n",
        "    plt.xlabel(xlabel)\n",
        "    plt.ylabel(ylabel)\n",
        "\n",
        "    plt.grid()\n",
        "    plt.show()"
      ],
      "execution_count": 20,
      "outputs": []
    },
    {
      "cell_type": "code",
      "source": [
        "from sklearn.linear_model import LassoCV\n",
        "\n",
        "# Создание объекта LassoCV\n",
        "alphas = np.arange(1, 100, 5)\n",
        "lasso_cv_model = LassoCV(alphas=alphas, cv=3)\n",
        "\n",
        "# Обучение модели на всех данных\n",
        "lasso_cv_model.fit(X, y)\n",
        "\n",
        "# Построение графика MSE в зависимости от alpha\n",
        "def create_plot(alphas, mse_path):\n",
        "    plt.figure(figsize=(8, 5))\n",
        "    plt.plot(alphas, mse_path, marker='o')\n",
        "    plt.xlabel(\"alpha\")\n",
        "    plt.ylabel(\"Mean Squared Error\")\n",
        "    plt.title(\"MSE vs. Alpha\")\n",
        "    plt.show()\n",
        "\n",
        "mse_path = lasso_cv_model.mse_path_.mean(axis=1)\n",
        "create_plot(lasso_cv_model.alphas_, mse_path)\n",
        "\n",
        "# Вывод выбранного alpha\n",
        "print(\"Выбранное alpha:\", lasso_cv_model.alpha_)\n",
        "\n",
        "# Вывод пар \"ознака-коэффициент\"\n",
        "for feature, weight in zip(data.columns, lasso_cv_model.coef_):\n",
        "    print(f'{feature}: {weight}')"
      ],
      "metadata": {
        "id": "NWVYnGja87Ib",
        "outputId": "c3c4e700-4794-40f1-c1ba-e01be439e4d9",
        "colab": {
          "base_uri": "https://localhost:8080/",
          "height": 701
        }
      },
      "execution_count": 21,
      "outputs": [
        {
          "output_type": "display_data",
          "data": {
            "text/plain": [
              "<Figure size 800x500 with 1 Axes>"
            ],
            "image/png": "[encoded data removed]"
          },
          "metadata": {}
        },
        {
          "output_type": "stream",
          "name": "stdout",
          "text": [
            "Выбранное alpha: 96\n",
            "season: 0.0\n",
            "yr: 0.0\n",
            "mnth: 0.0\n",
            "holiday: -0.0\n",
            "weekday: 0.0\n",
            "workingday: 0.0\n",
            "weathersit: -0.0\n",
            "temp: 0.0\n",
            "atemp: 0.0\n",
            "hum: -0.0\n",
            "windspeed(mph): -0.0\n",
            "windspeed(ms): -0.0\n"
          ]
        }
      ]
    },
    {
      "cell_type": "markdown",
      "metadata": {
        "id": "hRoEnDtfF0cu"
      },
      "source": [
        "Отже, ми вибрали певний параметр регуляризації. Давайте подивимося, які б ми вибирали alpha, якби ділили вибірку лише один раз на навчальну та тестову, тобто розглянемо траєкторії MSE, що відповідають окремим блокам вибірки."
      ]
    },
    {
      "cell_type": "markdown",
      "metadata": {
        "id": "Jvl3XiPmF0cu"
      },
      "source": [
        "### Завдання 9\n",
        "\n",
        "Виведіть значення `alpha`, що відповідають мінімумам `MSE` на кожному розбитті (тобто за стовпцями).\n",
        "На трьох окремих графіках візуалізуйте стовпці `mse_path_`.\n"
      ]
    },
    {
      "cell_type": "code",
      "metadata": {
        "id": "cpiFOLHHF0cu",
        "outputId": "0717a248-9164-461b-d0a0-6a606258b36a",
        "colab": {
          "base_uri": "https://localhost:8080/",
          "height": 262
        }
      },
      "source": [
        "# Вывод значений alpha, соответствующих минимумам MSE на каждом разбиении\n",
        "min_alphas = lasso_cv_model.alphas_[np.argmin(lasso_cv_model.mse_path_, axis=0)]\n",
        "print(\"Значения alpha, соответствующие минимумам MSE:\", min_alphas)\n",
        "\n",
        "# Визуализация столбцов mse_path_ на трех отдельных графиках\n",
        "plt.figure(figsize=(15, 5))\n",
        "\n",
        "for i in range(3):\n",
        "    plt.subplot(1, 3, i + 1)\n",
        "    plt.plot(lasso_cv_model.alphas_, lasso_cv_model.mse_path_[:, i])\n",
        "    plt.xlabel(\"alpha\")\n",
        "    plt.ylabel(\"Mean Squared Error\")\n",
        "    plt.title(f\"MSE vs. Alpha (Fold {i + 1})\")\n",
        "\n",
        "plt.tight_layout()\n",
        "plt.show()"
      ],
      "execution_count": 22,
      "outputs": [
        {
          "output_type": "stream",
          "name": "stdout",
          "text": [
            "Значения alpha, соответствующие минимумам MSE: [96 96 96]\n"
          ]
        },
        {
          "output_type": "display_data",
          "data": {
            "text/plain": [
              "<Figure size 1500x500 with 3 Axes>"
            ],
            "image/png": "[encoded data removed]"
          },
          "metadata": {}
        }
      ]
    },
    {
      "cell_type": "markdown",
      "metadata": {
        "id": "UEzEyHA1F0cv"
      },
      "source": [
        "На кожному розбитті оптимальне значення `alpha` своє, і йому відповідає велике MSE на інших розбиттях. Виходить, що ми налаштовуємося на конкретні навчальні та контрольні вибірки. При виборі `alpha` на крос-валідації ми вибираємо дещо \"середнє\", що даватиме прийнятне значення метрики на різних розбиттях вибірки."
      ]
    },
    {
      "cell_type": "markdown",
      "metadata": {
        "id": "B6rE566oF0cv"
      },
      "source": [
        "### Завдання 10\n",
        "\n",
        "Нарешті, як прийнято в аналізі даних, давайте проінтерпретуємо результат. Дайте відповіді на наступні запитання."
      ]
    },
    {
      "cell_type": "markdown",
      "metadata": {
        "id": "SSCcePDSF0cw"
      },
      "source": [
        "#### Запитання 1\n",
        "\n",
        "В останній навченій моделі виберіть 4 ознаки з найбільшими (позитивними) коефіцієнтами (і випишіть їх), подивіться на візуалізації залежностей `cnt` від цих ознак, які ми зображали у блоці \"Ознайомлення з даними\". Чи видно зростаючу лінійну залежність `cnt` від цих ознак за графіками? Чи логічно стверджувати (виходячи зі здорового глузду), що чим більше значення цих ознак, тим більше людей захочуть взяти велосипеди?"
      ]
    },
    {
      "cell_type": "markdown",
      "metadata": {
        "id": "2ikKprKqF0c0"
      },
      "source": [
        "__Відповідь:__"
      ]
    },
    {
      "cell_type": "code",
      "metadata": {
        "id": "W1MTuRXuF0c0",
        "outputId": "28ca76cb-d29d-46e0-c027-5c5dc7edb7ee",
        "colab": {
          "base_uri": "https://localhost:8080/"
        }
      },
      "source": [
        "# Знаходження індексів 4 найбільших коефіцієнтів\n",
        "top_4_indices = np.argsort(lasso_cv_model.coef_)[-4:]\n",
        "\n",
        "# Виведення назв ознак\n",
        "top_4_features = data.columns[top_4_indices]\n",
        "print(\"4 ознаки з найбільшими коефіцієнтами:\", top_4_features)"
      ],
      "execution_count": 23,
      "outputs": [
        {
          "output_type": "stream",
          "name": "stdout",
          "text": [
            "4 ознаки з найбільшими коефіцієнтами: Index(['atemp', 'hum', 'windspeed(mph)', 'windspeed(ms)'], dtype='object')\n"
          ]
        }
      ]
    },
    {
      "cell_type": "markdown",
      "metadata": {
        "id": "DkQTu53pF0c0"
      },
      "source": [
        "#### Запитання 2\n",
        "\n",
        "Виберіть 3 ознаки з найбільшими за модулем негативними коефіцієнтами (і випишіть їх), подивіться на відповідні візуалізації. Чи видно лінійну залежність, що зменшується? Чи логічно стверджувати, що чим більша величина цих ознак, тим менше людей захочуть взяти велосипеди?"
      ]
    },
    {
      "cell_type": "markdown",
      "metadata": {
        "id": "DUN8I7shF0c0"
      },
      "source": [
        "__Відповідь:__"
      ]
    },
    {
      "cell_type": "code",
      "metadata": {
        "id": "jv1CGs-8F0c1",
        "outputId": "0fd4eecd-5b15-4a9a-81cc-69a75da396f4",
        "colab": {
          "base_uri": "https://localhost:8080/"
        }
      },
      "source": [
        "# Знаходження індексів 3 ознак з найбільшими за модулем негативними коефіцієнтами\n",
        "top_3_negative_indices = np.argsort(lasso_cv_model.coef_)[:3]\n",
        "\n",
        "# Виведення назв ознак\n",
        "top_3_negative_features = data.columns[top_3_negative_indices]\n",
        "print(\"3 ознаки з найбільшими за модулем негативними коефіцієнтами:\", top_3_negative_features)"
      ],
      "execution_count": 24,
      "outputs": [
        {
          "output_type": "stream",
          "name": "stdout",
          "text": [
            "3 ознаки з найбільшими за модулем негативними коефіцієнтами: Index(['season', 'yr', 'mnth'], dtype='object')\n"
          ]
        }
      ]
    },
    {
      "cell_type": "markdown",
      "metadata": {
        "id": "vrbD3fNSF0c1"
      },
      "source": [
        "#### Запитання 3\n",
        "\n",
        "Випишіть ознаки з коефіцієнтами, близькими до нуля (< 1e-3). Як ви думаєте, чому модель виключила їх із моделі (знову подивіться на графіки)? Чи правда, що вони ніяк не впливають на попит на велосипеди?"
      ]
    },
    {
      "cell_type": "markdown",
      "metadata": {
        "id": "tFhvV-jcF0c1"
      },
      "source": [
        "__Відповідь:__"
      ]
    },
    {
      "cell_type": "code",
      "metadata": {
        "id": "TwnJNeaIF0c1",
        "outputId": "298b53dd-5270-4fa7-ffc5-4a4c0bb4dcda",
        "colab": {
          "base_uri": "https://localhost:8080/"
        }
      },
      "source": [
        "# Знаходження індексів ознак з коефіцієнтами, близькими до нуля\n",
        "near_zero_indices = np.where(np.abs(lasso_cv_model.coef_) < 1e-3)[0]\n",
        "\n",
        "# Виведення назв ознак\n",
        "near_zero_features = data.columns[near_zero_indices]\n",
        "print(\"Ознаки з коефіцієнтами, близькими до нуля:\", near_zero_features)"
      ],
      "execution_count": 25,
      "outputs": [
        {
          "output_type": "stream",
          "name": "stdout",
          "text": [
            "Ознаки з коефіцієнтами, близькими до нуля: Index(['season', 'yr', 'mnth', 'holiday', 'weekday', 'workingday',\n",
            "       'weathersit', 'temp', 'atemp', 'hum', 'windspeed(mph)',\n",
            "       'windspeed(ms)'],\n",
            "      dtype='object')\n"
          ]
        }
      ]
    },
    {
      "cell_type": "markdown",
      "metadata": {
        "id": "Wg0VQz5_F0c2"
      },
      "source": [
        "### Висновок\n",
        "Отже, ми подивилися, як можна стежити за адекватністю лінійної моделі, як відбирати ознаки і як грамотно, за можливості не налаштовуючись на якусь конкретну порцію даних, підбирати коефіцієнт регуляризації.\n",
        "\n",
        "Варто зазначити, що за допомогою крос-валідації зручно підбирати лише невелику кількість параметрів. (1, 2, максимум 3), тому що для кожної допустимої їх комбінації нам доводиться декілька разів навчати модель. Такий процес займає багато часу, особливо якщо треба навчатися на великих обсягах даних."
      ]
    }
  ]
}